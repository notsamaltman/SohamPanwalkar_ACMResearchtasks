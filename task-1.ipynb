{
 "cells": [
  {
   "cell_type": "code",
   "execution_count": 2,
   "id": "bc2d9042",
   "metadata": {},
   "outputs": [
    {
     "name": "stdout",
     "output_type": "stream",
     "text": [
      "My phone number is [REDACTED] I love 🐍, but my teacher says regex is exciting\n"
     ]
    }
   ],
   "source": [
    "import re\n",
    "\n",
    "def transform_text(text):\n",
    "    text = re.sub(r\"\\d{10}\", \"[REDACTED]\", text)\n",
    "    text = re.sub(r\"\\bPython\\b\", \"🐍\", text)\n",
    "    text = re.sub(r\"\\bboring\\b\", \"exciting\", text)\n",
    "    return text\n",
    "\n",
    "print(transform_text(\"My phone number is 9876543210 I love Python, but my teacher says regex is boring\"))"
   ]
  },
  {
   "cell_type": "code",
   "execution_count": 3,
   "id": "125ead69",
   "metadata": {},
   "outputs": [
    {
     "name": "stdout",
     "output_type": "stream",
     "text": [
      "{'Date': '2025-09-02', 'TODOs': ['Finish experiment report', 'Read paper on neural networks'], 'Result': 'Accuracy improved to 92%'}\n"
     ]
    }
   ],
   "source": [
    "def extract_from_notes(text):\n",
    "    data = {}\n",
    "\n",
    "    # find date\n",
    "    date_match = re.search(r\"Date:\\s*(.*)\", text)\n",
    "    if date_match:\n",
    "        data[\"Date\"] = date_match.group(1)\n",
    "\n",
    "    # find todos\n",
    "    todos = re.findall(r\"- TODO:\\s*(.*)\", text)\n",
    "    data[\"TODOs\"] = todos\n",
    "\n",
    "    # find result\n",
    "    result_match = re.search(r\"Result:\\s*(.*)\", text)\n",
    "    if result_match:\n",
    "        data[\"Result\"] = result_match.group(1)\n",
    "\n",
    "    return data\n",
    "\n",
    "notes = \"\"\"\n",
    "Date: 2025-09-02\n",
    "- TODO: Finish experiment report\n",
    "- TODO: Read paper on neural networks\n",
    "Result: Accuracy improved to 92%\n",
    "\"\"\"\n",
    "\n",
    "print(extract_from_notes(notes))"
   ]
  },
  {
   "cell_type": "code",
   "execution_count": null,
   "id": "4f3b640c",
   "metadata": {},
   "outputs": [],
   "source": []
  }
 ],
 "metadata": {
  "kernelspec": {
   "display_name": "Python 3",
   "language": "python",
   "name": "python3"
  },
  "language_info": {
   "codemirror_mode": {
    "name": "ipython",
    "version": 3
   },
   "file_extension": ".py",
   "mimetype": "text/x-python",
   "name": "python",
   "nbconvert_exporter": "python",
   "pygments_lexer": "ipython3",
   "version": "3.13.5"
  }
 },
 "nbformat": 4,
 "nbformat_minor": 5
}
